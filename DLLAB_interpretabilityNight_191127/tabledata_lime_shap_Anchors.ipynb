{
 "cells": [
  {
   "cell_type": "markdown",
   "metadata": {},
   "source": [
    "## ISID：説明性・解釈性のデモ（表形式データ）"
   ]
  },
  {
   "cell_type": "markdown",
   "metadata": {},
   "source": [
    "## 1. 用意\n",
    "\n",
    "①Azure Portalにて、Data Science Virtual Machine for Linux (Ubuntu)、でVMを作成\n",
    "\n",
    "サイズはStandard NC6\n",
    "\n",
    "②SSH接続\n",
    "\n",
    "ターミナルで、\n",
    "\n",
    "source activate py36\n",
    "\n",
    "※仮想環境py36を起動\n",
    "\n",
    "\n",
    "jupyter notebook password\n",
    "\n",
    "※jupyter notebookのパスワードを設定\n",
    "\n",
    "\n",
    "③ssh転送でポート8888をローカルマシンとつなぐ\n",
    "\n",
    "jupyter notebook\n",
    "\n",
    "で起動。\n",
    "\n",
    "表示されるURLにアクセスします。 http://localhost:8888/tree\n",
    "\n",
    "\n",
    "ローカルマシンのブラウザからVMのJupyterNotebookで作業\n"
   ]
  },
  {
   "cell_type": "markdown",
   "metadata": {},
   "source": [
    "## 2. 実行環境の設定\n",
    "\n",
    "\n"
   ]
  },
  {
   "cell_type": "code",
   "execution_count": null,
   "metadata": {},
   "outputs": [],
   "source": [
    "# 実行上問題ないwarningは非表示にする\n",
    "import warnings\n",
    "warnings.filterwarnings('ignore')"
   ]
  },
  {
   "cell_type": "code",
   "execution_count": null,
   "metadata": {},
   "outputs": [],
   "source": [
    "# 乱数シードの固定\n",
    "seed_value= 1234  # Seedの適当な値\n",
    "\n",
    "# 1. pythonのシード固定\n",
    "import os\n",
    "os.environ['PYTHONHASHSEED']=str(seed_value)\n",
    " \n",
    "# 2. randomのシード固定\n",
    "import random\n",
    "random.seed(seed_value)\n",
    " \n",
    "# 3. Numpyのシード固定\n",
    "import numpy as np\n",
    "np.random.seed(seed_value)"
   ]
  },
  {
   "cell_type": "code",
   "execution_count": null,
   "metadata": {},
   "outputs": [],
   "source": [
    "# パッケージのimport\n",
    "import pandas as pd\n",
    "import sklearn"
   ]
  },
  {
   "cell_type": "markdown",
   "metadata": {},
   "source": [
    "## 3. 各ライブラリのインストール"
   ]
  },
  {
   "cell_type": "code",
   "execution_count": null,
   "metadata": {},
   "outputs": [],
   "source": [
    "# 最初はこちらを実行してパッケージをインストール\n",
    "!pip install lime\n",
    "!pip install shap\n",
    "!pip install anchor_exp"
   ]
  },
  {
   "cell_type": "code",
   "execution_count": null,
   "metadata": {},
   "outputs": [],
   "source": [
    "import lime, shap, anchor"
   ]
  },
  {
   "cell_type": "code",
   "execution_count": null,
   "metadata": {},
   "outputs": [],
   "source": [
    "#print(lime.__version__)\n",
    "print(shap.__version__)\n",
    "#print(anchor.__version__)"
   ]
  },
  {
   "cell_type": "code",
   "execution_count": null,
   "metadata": {},
   "outputs": [],
   "source": [
    "!pip show lime"
   ]
  },
  {
   "cell_type": "code",
   "execution_count": null,
   "metadata": {},
   "outputs": [],
   "source": [
    "!pip show anchor_exp"
   ]
  },
  {
   "cell_type": "markdown",
   "metadata": {},
   "source": [
    "## 4. タイタニックデータを用意"
   ]
  },
  {
   "cell_type": "code",
   "execution_count": null,
   "metadata": {},
   "outputs": [],
   "source": [
    "# タイタニックデータ取得\n",
    "# 参考\n",
    "# https://github.com/Azure/MachineLearningNotebooks/blob/master/how-to-use-azureml/explain-model/tabular-data/advanced-feature-transformations-explain-local.ipynb\n",
    "\n",
    "titanic_url = ('https://raw.githubusercontent.com/amueller/'\n",
    "               'scipy-2017-sklearn/091d371/notebooks/datasets/titanic3.csv')\n",
    "data = pd.read_csv(titanic_url)\n"
   ]
  },
  {
   "cell_type": "code",
   "execution_count": null,
   "metadata": {},
   "outputs": [],
   "source": [
    "# データを作成\n",
    "target_feature = ['survived']\n",
    "numeric_features = ['age', 'fare','sibsp','parch']\n",
    "categorical_features = ['embarked', 'sex', 'pclass']\n",
    "\n",
    "df = data[target_feature+categorical_features + numeric_features]\n",
    "y = data[target_feature].values\n",
    "X = data[categorical_features + numeric_features]\n"
   ]
  },
  {
   "cell_type": "code",
   "execution_count": null,
   "metadata": {},
   "outputs": [],
   "source": [
    "# データを確認\n",
    "print(df.shape)\n",
    "df.head()\n",
    "\n",
    "# ※ageの1以下は乳幼児と思われる。11カ月 = 0.9167"
   ]
  },
  {
   "cell_type": "code",
   "execution_count": null,
   "metadata": {},
   "outputs": [],
   "source": [
    "1/12*11"
   ]
  },
  {
   "cell_type": "code",
   "execution_count": null,
   "metadata": {},
   "outputs": [],
   "source": [
    "y"
   ]
  },
  {
   "cell_type": "markdown",
   "metadata": {},
   "source": [
    "## 5. データの前処理（型修正・欠損値処理）"
   ]
  },
  {
   "cell_type": "code",
   "execution_count": null,
   "metadata": {},
   "outputs": [],
   "source": [
    "# データの型を確認\n",
    "X.dtypes"
   ]
  },
  {
   "cell_type": "code",
   "execution_count": null,
   "metadata": {},
   "outputs": [],
   "source": [
    "# pclassの型を修正\n",
    "X[\"pclass\"] = X[\"pclass\"].astype(str)\n",
    "X.dtypes\n"
   ]
  },
  {
   "cell_type": "code",
   "execution_count": null,
   "metadata": {},
   "outputs": [],
   "source": [
    "# 欠損値のある列を確認\n",
    "X.isnull().any(axis=0)"
   ]
  },
  {
   "cell_type": "code",
   "execution_count": null,
   "metadata": {},
   "outputs": [],
   "source": [
    "# embarkedの欠損値を修正\n",
    "X['embarked'] = X['embarked'].fillna(\"missing\")\n",
    "X.isnull().any(axis=0)"
   ]
  },
  {
   "cell_type": "code",
   "execution_count": null,
   "metadata": {},
   "outputs": [],
   "source": [
    "# ageとfareの欠損値を修正\n",
    "# データを分割\n",
    "from sklearn.model_selection import train_test_split\n",
    "\n",
    "x_train, x_test, y_train, y_test = train_test_split(X, y, test_size=0.2, random_state=0)\n",
    "\n",
    "# 訓練データで中央値を求める\n",
    "age_median = x_train[\"age\"].median()\n",
    "fare_median = x_train[\"fare\"].median()\n",
    "\n",
    "X[\"age\"] = X[\"age\"].fillna(age_median)\n",
    "X[\"fare\"] = X[\"fare\"].fillna(fare_median)\n"
   ]
  },
  {
   "cell_type": "code",
   "execution_count": null,
   "metadata": {},
   "outputs": [],
   "source": [
    "# 欠損値が全部消えたかを再確認\n",
    "X.isnull().any(axis=0)"
   ]
  },
  {
   "cell_type": "code",
   "execution_count": null,
   "metadata": {},
   "outputs": [],
   "source": [
    "# Xを確認する\n",
    "X = pd.DataFrame(X)\n",
    "\n",
    "# Anchorsで使うとき用に\n",
    "X_original = X.copy()\n",
    "\n",
    "X.head()\n",
    "\n"
   ]
  },
  {
   "cell_type": "code",
   "execution_count": null,
   "metadata": {},
   "outputs": [],
   "source": [
    "#カテゴリデータを数値に変換する\n",
    "from sklearn.preprocessing import LabelEncoder\n",
    "\n",
    "feature_names = X.columns\n",
    "categorical_features = [0,1,2]\n",
    "categorical_names = {}\n",
    "\n",
    "for feature in categorical_features:\n",
    "    le = LabelEncoder()\n",
    "    le.fit(X[feature_names[feature]])\n",
    "    X.loc[:, feature_names[feature]] = le.transform(X[feature_names[feature]])\n",
    "    categorical_names[feature] = le.classes_\n",
    "\n",
    "X = X.astype(float)"
   ]
  },
  {
   "cell_type": "code",
   "execution_count": null,
   "metadata": {},
   "outputs": [],
   "source": [
    "# カテゴリカルデータの変換を確認\n",
    "categorical_names"
   ]
  },
  {
   "cell_type": "code",
   "execution_count": null,
   "metadata": {},
   "outputs": [],
   "source": [
    "# Xを確認する\n",
    "X = pd.DataFrame(X)\n",
    "X.head()"
   ]
  },
  {
   "cell_type": "code",
   "execution_count": null,
   "metadata": {},
   "outputs": [],
   "source": [
    "# 目的変数yの形を修正\n",
    "y = y.reshape(-1)\n",
    "print(y[0:5])"
   ]
  },
  {
   "cell_type": "markdown",
   "metadata": {},
   "source": [
    "## 6. 機械学習で学習する"
   ]
  },
  {
   "cell_type": "code",
   "execution_count": null,
   "metadata": {},
   "outputs": [],
   "source": [
    "# one-hot encodingを実施する\n",
    "encoder = sklearn.preprocessing.OneHotEncoder(categorical_features=categorical_features)\n",
    "encoder.fit(X)\n"
   ]
  },
  {
   "cell_type": "code",
   "execution_count": null,
   "metadata": {},
   "outputs": [],
   "source": [
    "# データ分割 ※前処理を同じ条件で行うこと\n",
    "X_train,X_val,y_train,y_val = train_test_split(X,y,test_size=0.2,random_state=0)"
   ]
  },
  {
   "cell_type": "code",
   "execution_count": null,
   "metadata": {},
   "outputs": [],
   "source": [
    "# 今回はランダムフォレストで学習としよう\n",
    "\n",
    "from sklearn.ensemble import RandomForestClassifier\n",
    "forest = RandomForestClassifier(n_estimators = 10, random_state=0)\n",
    "\n",
    "# one-hot\n",
    "encoded_X_train = encoder.transform(X_train)\n",
    "\n",
    "# 学習\n",
    "forest = forest.fit(encoded_X_train, y_train)\n"
   ]
  },
  {
   "cell_type": "code",
   "execution_count": null,
   "metadata": {},
   "outputs": [],
   "source": [
    "# 検証データの性能\n",
    "\n",
    "from sklearn.metrics import accuracy_score\n",
    "\n",
    "encoded_X_val = encoder.transform(X_val)\n",
    "\n",
    "\n",
    "print(accuracy_score(y_train, forest.predict(encoded_X_train).round()))\n",
    "print(accuracy_score(y_val, forest.predict(encoded_X_val)).round())\n",
    "\n",
    "print(X_val.shape)"
   ]
  },
  {
   "cell_type": "code",
   "execution_count": null,
   "metadata": {},
   "outputs": [],
   "source": [
    "# 生存確率\n",
    "pb = forest.predict_proba(encoded_X_val)\n"
   ]
  },
  {
   "cell_type": "code",
   "execution_count": null,
   "metadata": {},
   "outputs": [],
   "source": [
    "# index=0の人の生存確率\n",
    "pb[0]"
   ]
  },
  {
   "cell_type": "code",
   "execution_count": null,
   "metadata": {},
   "outputs": [],
   "source": [
    "# index=1の人の生存確率\n",
    "pb[1]"
   ]
  },
  {
   "cell_type": "code",
   "execution_count": null,
   "metadata": {},
   "outputs": [],
   "source": [
    "# 中身を確認する\n",
    "categorical_names"
   ]
  },
  {
   "cell_type": "code",
   "execution_count": null,
   "metadata": {},
   "outputs": [],
   "source": [
    "# 中身の確認\n",
    "\n",
    "X_val_show=pd.DataFrame((encoder.transform(X_val)).todense())\n",
    "\n",
    "feature_names=['Embarked_C', 'Embarked_Q', 'Embarked_S', 'Embarked_Missing','Sex_female', 'Sex_male', 'Pclass_1', 'Pclass_2', 'Pclass_3',\n",
    "       'Age','Fare','SibSp', 'Parch']\n",
    "\n",
    "X_val_show.columns =feature_names\n",
    "X_val_show.head()"
   ]
  },
  {
   "cell_type": "markdown",
   "metadata": {},
   "source": [
    "# 7. LIME"
   ]
  },
  {
   "cell_type": "code",
   "execution_count": null,
   "metadata": {},
   "outputs": [],
   "source": [
    "#LIMEの準備\n",
    "import lime.lime_tabular\n",
    "import re,itertools,json"
   ]
  },
  {
   "cell_type": "code",
   "execution_count": null,
   "metadata": {},
   "outputs": [],
   "source": [
    "# 日本語表示用の設定\n",
    "\n",
    "def visualize_instance_html_japanese(self, exp, label, div_name, exp_object_name,\n",
    "                                text=True, opacity=True):\n",
    "    if not text:\n",
    "        return u''\n",
    "    text = (self.indexed_string.raw_string()\n",
    "            .encode('utf-8', 'xmlcharrefreplace').decode())\n",
    "    text = re.sub(r'[<>&]', '|', text)\n",
    "    exp = [(self.indexed_string.word(x[0]),\n",
    "            self.indexed_string.string_position(x[0]),\n",
    "            x[1]) for x in exp]\n",
    "    all_ocurrences = list(itertools.chain.from_iterable(\n",
    "        [itertools.product([x[0]], x[1], [x[2]]) for x in exp]))\n",
    "    all_ocurrences = [(x[0], int(x[1]), x[2]) for x in all_ocurrences]\n",
    "    ret = '''\n",
    "        %s.show_raw_text(%s, %d, %s, %s, %s);\n",
    "        ''' % (exp_object_name, json.dumps(all_ocurrences), label,\n",
    "               json.dumps(text), div_name, json.dumps(opacity))\n",
    "    return ret"
   ]
  },
  {
   "cell_type": "code",
   "execution_count": null,
   "metadata": {},
   "outputs": [],
   "source": [
    "# LIME用の設定\n",
    "feature_names = ['Embarked', 'Sex', 'Pclass', 'Age', 'Fare', 'SibSp', 'Parch']\n",
    "categorical_names"
   ]
  },
  {
   "cell_type": "code",
   "execution_count": null,
   "metadata": {},
   "outputs": [],
   "source": [
    "categorical_features"
   ]
  },
  {
   "cell_type": "code",
   "execution_count": null,
   "metadata": {},
   "outputs": [],
   "source": [
    "# 推論関数の定義\n",
    "predict_fn = lambda x: forest.predict_proba(encoder.transform(x)).astype(float)\n"
   ]
  },
  {
   "cell_type": "code",
   "execution_count": null,
   "metadata": {},
   "outputs": [],
   "source": [
    "# LIMEの用意\n",
    "\n",
    "from lime.lime_text import TextDomainMapper\n",
    "TextDomainMapper.visualize_instance_html = visualize_instance_html_japanese\n",
    "\n",
    "\n",
    "\n",
    "explainer = lime.lime_tabular.LimeTabularExplainer(np.array(X_train) ,feature_names = feature_names,\n",
    "                                                   class_names=[\"Not Survived\",\"Survived\"],\n",
    "                                                   categorical_features=categorical_features, \n",
    "                                                   categorical_names=categorical_names, kernel_width=3, verbose=True)\n",
    "\n"
   ]
  },
  {
   "cell_type": "code",
   "execution_count": null,
   "metadata": {},
   "outputs": [],
   "source": [
    "# 局所説明性が欲しいデータをピックアップ\n",
    "i = 0\n",
    "X_val.iloc[i,:]"
   ]
  },
  {
   "cell_type": "code",
   "execution_count": null,
   "metadata": {},
   "outputs": [],
   "source": [
    "# LIMEで局所説明\n",
    "exp = explainer.explain_instance(np.array(X_val)[i], predict_fn, num_samples=1000)\n",
    "\n",
    "# num_samplesが作成する模擬データ数"
   ]
  },
  {
   "cell_type": "code",
   "execution_count": null,
   "metadata": {},
   "outputs": [],
   "source": [
    "# 表示\n",
    "print(y_val[i])\n",
    "exp.show_in_notebook(show_all=False)"
   ]
  },
  {
   "cell_type": "code",
   "execution_count": null,
   "metadata": {},
   "outputs": [],
   "source": [
    "# 別のデータ\n",
    "\n",
    "# 局所説明性が欲しいデータをピックアップ\n",
    "i = 1\n",
    "\n",
    "# LIMEで局所説明\n",
    "exp = explainer.explain_instance(np.array(X_val)[i], predict_fn, num_samples=1000)\n",
    "\n",
    "# 表示\n",
    "print(y_val[i])\n",
    "exp.show_in_notebook(show_all=False)"
   ]
  },
  {
   "cell_type": "code",
   "execution_count": null,
   "metadata": {},
   "outputs": [],
   "source": []
  },
  {
   "cell_type": "code",
   "execution_count": null,
   "metadata": {},
   "outputs": [],
   "source": []
  },
  {
   "cell_type": "markdown",
   "metadata": {},
   "source": [
    "# 8. SHAP"
   ]
  },
  {
   "cell_type": "code",
   "execution_count": null,
   "metadata": {},
   "outputs": [],
   "source": [
    "import shap"
   ]
  },
  {
   "cell_type": "code",
   "execution_count": null,
   "metadata": {},
   "outputs": [],
   "source": [
    "# 推論関数の定義  ※LIMEと違って、one-hotにしてから扱う\n",
    "predict_fn = lambda x: forest.predict_proba(x).astype(float)\n"
   ]
  },
  {
   "cell_type": "code",
   "execution_count": null,
   "metadata": {},
   "outputs": [],
   "source": [
    "feature_names=['Embarked_C', 'Embarked_Q', 'Embarked_S', 'Embarked_Missing','Sex_female', 'Sex_male', 'Pclass_1', 'Pclass_2', 'Pclass_3',\n",
    "       'Age','Fare','SibSp', 'Parch']"
   ]
  },
  {
   "cell_type": "code",
   "execution_count": null,
   "metadata": {},
   "outputs": [],
   "source": [
    "# sparceな行列をdenseに\n",
    "encoded_X_train = encoded_X_train.todense()\n",
    "encoded_X_val = encoded_X_val.todense()"
   ]
  },
  {
   "cell_type": "code",
   "execution_count": null,
   "metadata": {},
   "outputs": [],
   "source": [
    "# pandasに\n",
    "encoded_X_train = pd.DataFrame(encoded_X_train)\n",
    "encoded_X_val = pd.DataFrame(encoded_X_val)\n",
    "\n",
    "\n",
    "encoded_X_train.columns =feature_names\n",
    "encoded_X_val.columns =feature_names\n",
    "encoded_X_val.head()"
   ]
  },
  {
   "cell_type": "code",
   "execution_count": null,
   "metadata": {},
   "outputs": [],
   "source": [
    "ex = shap.KernelExplainer(predict_fn, encoded_X_train)"
   ]
  },
  {
   "cell_type": "code",
   "execution_count": null,
   "metadata": {},
   "outputs": [],
   "source": [
    "# 全データだと多いのでkmeansで代表点を求めて使用する\n",
    "# 参考　https://github.com/slundberg/shap/blob/master/notebooks/kernel_explainer/Diabetes%20regression.ipynb\n",
    "\n",
    "# X_train_summary = shap.kmeans(encoded_X_train, 10)\n",
    "# ex = shap.KernelExplainer(predict_fn, X_train_summary)"
   ]
  },
  {
   "cell_type": "code",
   "execution_count": null,
   "metadata": {},
   "outputs": [],
   "source": [
    "# SHAPで局所説明の値を求める\n",
    "i = 0\n",
    "shap_values = ex.shap_values(encoded_X_val.iloc[i,:])\n"
   ]
  },
  {
   "cell_type": "code",
   "execution_count": null,
   "metadata": {},
   "outputs": [],
   "source": [
    "print(shap_values[1])  # [1] は目的変数yが1 = survivedであるSHAPを求めている"
   ]
  },
  {
   "cell_type": "code",
   "execution_count": null,
   "metadata": {},
   "outputs": [],
   "source": [
    "# 可視化  ※[1] は目的変数yが1 = survivedであるSHAPを求めている\n",
    "shap.initjs()\n",
    "shap.force_plot(ex.expected_value[1], shap_values[1], encoded_X_val.iloc[i,:])\n"
   ]
  },
  {
   "cell_type": "code",
   "execution_count": null,
   "metadata": {},
   "outputs": [],
   "source": [
    "# 別のデータで\n",
    "# 局所説明性が欲しいデータをピックアップ\n",
    "i = 1\n",
    "\n",
    "# SHAPで局所説明の値を求める\n",
    "shap_values = ex.shap_values(encoded_X_val.iloc[i,:])\n",
    "\n",
    "# shap_values\n",
    "print(shap_values[1])\n",
    "\n",
    "# 可視化  ※[1] は目的変数yが1 = survivedであるSHAPを求めている\n",
    "shap.initjs()\n",
    "shap.force_plot(ex.expected_value[1], shap_values[1], encoded_X_val.iloc[i,:])"
   ]
  },
  {
   "cell_type": "code",
   "execution_count": null,
   "metadata": {},
   "outputs": [],
   "source": [
    "# one-hotにした影響力はどう計算するのか？\n",
    "# 参考　Questions about SHAP handling categorical variables #397\n",
    "# https://github.com/slundberg/shap/issues/397 \n",
    "\n",
    "# You should use SUM (assuming you don't want to break it out by category). \n",
    "# Because that will measure the total effect of all the categories,\n",
    "# and so capture the impact of that feature before one-hot encoding.\n"
   ]
  },
  {
   "cell_type": "code",
   "execution_count": null,
   "metadata": {},
   "outputs": [],
   "source": [
    "# 計算する\n",
    "\n",
    "#feature_names=['Embarked_C', 'Embarked_Q', 'Embarked_S', 'Embarked_Missing','Sex_female', 'Sex_male', 'Pclass_1', 'Pclass_2', 'Pclass_3',\n",
    "#       'Age','Fare','SibSp', 'Parch']\n",
    "\n",
    "shap_Embarked = shap_values[1][0:4].sum()\n",
    "shap_Sex = shap_values[1][4:6].sum()\n",
    "shap_Pclass = shap_values[1][6:9].sum()\n",
    "shap_Age = shap_values[1][9]\n",
    "shap_Fare = shap_values[1][10]\n",
    "shap_Sibsp = shap_values[1][11]\n",
    "shap_Parch = shap_values[1][12]\n"
   ]
  },
  {
   "cell_type": "code",
   "execution_count": null,
   "metadata": {},
   "outputs": [],
   "source": [
    "print(shap_Embarked)\n",
    "print(shap_Sex)\n",
    "print(shap_Pclass)\n",
    "print(shap_Age)\n",
    "print(shap_Fare)\n",
    "print(shap_Sibsp)\n",
    "print(shap_Parch)\n"
   ]
  },
  {
   "cell_type": "markdown",
   "metadata": {},
   "source": [
    "# 9. Anchors\n",
    "\n",
    "Anchorsでは連続値は扱えず、ビンに区切る必要がある"
   ]
  },
  {
   "cell_type": "code",
   "execution_count": null,
   "metadata": {},
   "outputs": [],
   "source": [
    "from anchor import utils\n",
    "from anchor import anchor_tabular"
   ]
  },
  {
   "cell_type": "code",
   "execution_count": null,
   "metadata": {},
   "outputs": [],
   "source": [
    "# 上の方にある、Anchorsで使うとき用にからとってくる\n",
    "X = X_original \n",
    "X.head()"
   ]
  },
  {
   "cell_type": "code",
   "execution_count": null,
   "metadata": {},
   "outputs": [],
   "source": [
    "# 連続値を20分割\n",
    "X['age_cut'] = pd.cut(df['age'], 20)\n",
    "X['sibsp_cut'] = pd.cut(df['sibsp'], 20)\n",
    "X['parch_cut'] = pd.cut(df['parch'], 20)\n",
    "X['fare_cut'] = pd.cut(df['fare'], 20)"
   ]
  },
  {
   "cell_type": "code",
   "execution_count": null,
   "metadata": {},
   "outputs": [],
   "source": [
    "X.head()"
   ]
  },
  {
   "cell_type": "code",
   "execution_count": null,
   "metadata": {},
   "outputs": [],
   "source": [
    "# 列の順番入れ替え\n",
    "X=X.ix[:,['embarked', 'sex', 'pclass', 'age_cut', 'fare_cut','sibsp_cut','parch_cut']]"
   ]
  },
  {
   "cell_type": "code",
   "execution_count": null,
   "metadata": {},
   "outputs": [],
   "source": [
    "X.head()"
   ]
  },
  {
   "cell_type": "code",
   "execution_count": null,
   "metadata": {},
   "outputs": [],
   "source": [
    "# 分割したものをテキストとして扱う\n",
    "X['age_cut'] = X['age_cut'].astype(str)\n",
    "X['sibsp_cut'] = X['sibsp_cut'].astype(str)\n",
    "X['parch_cut'] = X['parch_cut'].astype(str)\n",
    "X['fare_cut'] = X['fare_cut'].astype(str)\n"
   ]
  },
  {
   "cell_type": "code",
   "execution_count": null,
   "metadata": {},
   "outputs": [],
   "source": [
    "#カテゴリデータを数値に変換する\n",
    "feature_names = X.columns\n",
    "categorical_features = [0,1,2,3,4,5,6]\n",
    "categorical_names = {}\n",
    "\n",
    "for feature in categorical_features:\n",
    "    le = LabelEncoder()\n",
    "    le.fit(X[feature_names[feature]])\n",
    "    X.loc[:, feature_names[feature]] = le.transform(X[feature_names[feature]])\n",
    "    categorical_names[feature] = le.classes_\n",
    "\n",
    "X = X.astype(int)"
   ]
  },
  {
   "cell_type": "code",
   "execution_count": null,
   "metadata": {},
   "outputs": [],
   "source": [
    "X.head()"
   ]
  },
  {
   "cell_type": "code",
   "execution_count": null,
   "metadata": {},
   "outputs": [],
   "source": [
    "# カテゴリカルデータの対応を確認\n",
    "categorical_names"
   ]
  },
  {
   "cell_type": "code",
   "execution_count": null,
   "metadata": {},
   "outputs": [],
   "source": [
    "feature_names"
   ]
  },
  {
   "cell_type": "code",
   "execution_count": null,
   "metadata": {},
   "outputs": [],
   "source": [
    "class_names=[\"0_Survived\", \"1_Survived\"]"
   ]
  },
  {
   "cell_type": "code",
   "execution_count": null,
   "metadata": {},
   "outputs": [],
   "source": [
    "# 機械学習を実施"
   ]
  },
  {
   "cell_type": "code",
   "execution_count": null,
   "metadata": {},
   "outputs": [],
   "source": [
    "# データ分割 ※前処理を同じ条件で行うこと\n",
    "X_train,X_val,y_train,y_val = train_test_split(X,y,test_size=0.2,random_state=0)\n"
   ]
  },
  {
   "cell_type": "code",
   "execution_count": null,
   "metadata": {},
   "outputs": [],
   "source": [
    "# \n",
    "# https://github.com/marcotcr/anchor/blob/master/anchor/anchor_tabular.py\n",
    "explainer = anchor_tabular.AnchorTabularExplainer(class_names, feature_names, np.array(X_train), categorical_names)\n",
    "explainer.fit(np.array(X_train), y_train, np.array(X_val), y_val)"
   ]
  },
  {
   "cell_type": "code",
   "execution_count": null,
   "metadata": {},
   "outputs": [],
   "source": [
    "from sklearn.ensemble import RandomForestClassifier\n",
    "forest = RandomForestClassifier(n_estimators = 10, random_state=0)\n",
    "\n",
    "forest.fit(explainer.encoder.transform(np.array(X_train)),y_train)\n",
    "\n",
    "# 本当はone-hotにすべきで連続ではないが、今回は面倒なのでこのままいく"
   ]
  },
  {
   "cell_type": "code",
   "execution_count": null,
   "metadata": {},
   "outputs": [],
   "source": [
    "# 推論関数の定義\n",
    "predict_fn = lambda x: forest.predict(explainer.encoder.transform(x))"
   ]
  },
  {
   "cell_type": "code",
   "execution_count": null,
   "metadata": {},
   "outputs": [],
   "source": [
    "print('Train', sklearn.metrics.accuracy_score(y_train, predict_fn(np.array(X_train))))\n",
    "print('Test', sklearn.metrics.accuracy_score(y_val, predict_fn(np.array(X_val))))"
   ]
  },
  {
   "cell_type": "code",
   "execution_count": null,
   "metadata": {},
   "outputs": [],
   "source": [
    "# 局所説明を得る\n",
    "\n",
    "i = 0\n",
    "forest.predict_proba(explainer.encoder.transform(np.array(X_val)))[i]\n",
    "print('Prediction: ', explainer.class_names[predict_fn(np.array(X_val)[i].reshape(1, -1))[0]])  "
   ]
  },
  {
   "cell_type": "code",
   "execution_count": null,
   "metadata": {},
   "outputs": [],
   "source": [
    "exp = explainer.explain_instance(np.array(X_val)[i].astype(int), forest.predict, threshold=0.95)"
   ]
  },
  {
   "cell_type": "code",
   "execution_count": null,
   "metadata": {},
   "outputs": [],
   "source": [
    "exp.show_in_notebook()"
   ]
  },
  {
   "cell_type": "code",
   "execution_count": null,
   "metadata": {},
   "outputs": [],
   "source": [
    "# 別のデータの場合、局所説明を得る\n",
    "\n",
    "i = 1\n",
    "forest.predict_proba(explainer.encoder.transform(np.array(X_val)))[i]\n",
    "print('Prediction: ', explainer.class_names[predict_fn(np.array(X_val)[i].reshape(1, -1))[0]])\n",
    "exp = explainer.explain_instance(np.array(X_val)[i].astype(int), forest.predict, threshold=0.95)\n",
    "exp.show_in_notebook()"
   ]
  },
  {
   "cell_type": "code",
   "execution_count": null,
   "metadata": {},
   "outputs": [],
   "source": []
  }
 ],
 "metadata": {
  "kernelspec": {
   "display_name": "Python 3.6 - AzureML",
   "language": "python",
   "name": "python3-azureml"
  },
  "language_info": {
   "codemirror_mode": {
    "name": "ipython",
    "version": 3
   },
   "file_extension": ".py",
   "mimetype": "text/x-python",
   "name": "python",
   "nbconvert_exporter": "python",
   "pygments_lexer": "ipython3",
   "version": "3.6.8"
  }
 },
 "nbformat": 4,
 "nbformat_minor": 2
}
